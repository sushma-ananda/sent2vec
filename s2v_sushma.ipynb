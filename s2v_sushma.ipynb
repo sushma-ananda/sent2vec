{
 "cells": [
  {
   "cell_type": "code",
   "execution_count": 1,
   "metadata": {},
   "outputs": [
    {
     "name": "stdout",
     "output_type": "stream",
     "text": [
      "/Users/sakoju/Documents/10715/Fall2018/Project/sent2vec/pre-trained-models/\n"
     ]
    }
   ],
   "source": [
    "import sent2vec\n",
    "import glob\n",
    "from multiprocessing import Pool\n",
    "import sys\n",
    "import os\n",
    "import re\n",
    "import codecs\n",
    "import nltk.data\n",
    "from nltk.tokenize import TweetTokenizer\n",
    "from scipy.stats import pearsonr, spearmanr\n",
    "import numpy as np\n",
    "data_path  = '/Users/sakoju/Documents/10715/Fall2018/Project/sent2vec/'\n",
    "model_path = data_path + 'pre-trained-models/'\n",
    "print(model_path)"
   ]
  },
  {
   "cell_type": "code",
   "execution_count": 8,
   "metadata": {},
   "outputs": [],
   "source": [
    "model_books = sent2vec.Sent2vecModel()\n",
    "model_books.load_model(model_path + 'books_model.bin')"
   ]
  },
  {
   "cell_type": "code",
   "execution_count": 3,
   "metadata": {},
   "outputs": [],
   "source": [
    "t1 = \"Kevin Stitt ran a great winning campaign against a very tough opponent in Oklahoma. Kevin is a very successful businessman who will be a fantastic Governor. He is strong on Crime & Borders, the 2nd Amendment, & loves our Military & Vets. He has my complete and total Endorsement!\"\n",
    "t2 = \"To the incredible people of the Great State of Wyoming: Go VOTE TODAY for Foster Friess - He will be a fantastic Governor! Strong on Crime, Borders & 2nd Amendment. Loves our Military & our Vets. He has my complete and total Endorsement!\"\n",
    "def get_similarity(t1,t2,model):\n",
    "    tknzr = TweetTokenizer()\n",
    "    t1 = ' '.join(tknzr.tokenize(t1)).lower()\n",
    "    t2 = ' '.join(tknzr.tokenize(t2)).lower()\n",
    "#     print(t1)\n",
    "#     print(t2)\n",
    "#     emb = model.embed_sentence(\"once upon a time .\") \n",
    "    emb = model.embed_sentences([t1,t2])\n",
    "#     print(emb.shape)\n",
    "    pearson = pearsonr(emb[0,:],emb[1,:])[0]\n",
    "    spearman = spearmanr(emb[0,:],emb[1,:])[0]\n",
    "    return np.round(pearson,3),np.round(spearman,3),np.round((pearson + spearman)/2.0,3)"
   ]
  },
  {
   "cell_type": "code",
   "execution_count": 4,
   "metadata": {},
   "outputs": [
    {
     "name": "stdout",
     "output_type": "stream",
     "text": [
      "(0.784, 0.766, 0.775)\n"
     ]
    }
   ],
   "source": [
    "print(get_similarity(t1,t2,model_books))"
   ]
  },
  {
   "cell_type": "code",
   "execution_count": 6,
   "metadata": {},
   "outputs": [],
   "source": [
    "model_quora = sent2vec.Sent2vecModel()\n",
    "model_quora.load_model(model_path + 'quora_model.bin')"
   ]
  },
  {
   "cell_type": "code",
   "execution_count": 9,
   "metadata": {},
   "outputs": [
    {
     "name": "stdout",
     "output_type": "stream",
     "text": [
      "(0.984, 0.982, 0.983)\n"
     ]
    }
   ],
   "source": [
    "print(get_similarity(t1,t2,model_quora))"
   ]
  },
  {
   "cell_type": "code",
   "execution_count": 10,
   "metadata": {},
   "outputs": [],
   "source": [
    "t1 = \"Piorot is the main detective in Agatha Christie's novels. But Mr Darcy and Miss Elizabeth are main protagonists in Jane Austen's novels.\"\n",
    "t2 = \"Lirerary critics treasure O Henry's The Gift of Magi as one of the most lauded short stories in history of literature.\""
   ]
  },
  {
   "cell_type": "code",
   "execution_count": 13,
   "metadata": {},
   "outputs": [
    {
     "name": "stdout",
     "output_type": "stream",
     "text": [
      "(0.299, 0.265, 0.282)\n"
     ]
    }
   ],
   "source": [
    "print(get_similarity(t1,t2,model_books))"
   ]
  },
  {
   "cell_type": "code",
   "execution_count": 14,
   "metadata": {},
   "outputs": [
    {
     "name": "stdout",
     "output_type": "stream",
     "text": [
      "(0.957, 0.952, 0.954)\n"
     ]
    }
   ],
   "source": [
    "print(get_similarity(t1,t2,model_quora))"
   ]
  },
  {
   "cell_type": "code",
   "execution_count": null,
   "metadata": {},
   "outputs": [],
   "source": []
  }
 ],
 "metadata": {
  "kernelspec": {
   "display_name": "Python 3",
   "language": "python",
   "name": "python3"
  },
  "language_info": {
   "codemirror_mode": {
    "name": "ipython",
    "version": 3
   },
   "file_extension": ".py",
   "mimetype": "text/x-python",
   "name": "python",
   "nbconvert_exporter": "python",
   "pygments_lexer": "ipython3",
   "version": "3.7.0"
  }
 },
 "nbformat": 4,
 "nbformat_minor": 2
}
